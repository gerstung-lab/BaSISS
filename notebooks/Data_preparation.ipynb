{
 "cells": [
  {
   "cell_type": "code",
   "execution_count": 1,
   "metadata": {},
   "outputs": [],
   "source": [
    "import sys\n",
    "#show the pass to basiss\n",
    "sys.path.append('../')\n",
    "from basiss.preprocessing import Sample \n",
    "\n",
    "import pickle as pkl"
   ]
  },
  {
   "cell_type": "markdown",
   "metadata": {},
   "source": [
    "The experimental data consists of several layers of information that are tightly linked, the main parts are:\n",
    "\n",
    "1) BaSISS (mut) or ISS (exp and imm) decoded singals \n",
    "2) Backround tissue image (DAPI)\n",
    "3) Segmented nulcei locations\n",
    "4) Selected regions of interest.\n",
    "\n",
    "In addition, due to the large image size and the decoding limitations, some large images are splited into 'Top' and 'Bottom' parts. Those should be registered back on the whole slide DAPI background.\n",
    "\n",
    "To make the downstream analysis easier we store these layers in a single `basiss.preprocessing.Sample` object, which represent a fluorescent imaging experiment on a single tissue slide with the attached metadata. \n",
    "\n",
    "To create a sample and register signals run\n",
    "```\n",
    "from basiss.preprocessing import Sample \n",
    "sample = Sample(iss_data='path_to_decoded_iss_data',\n",
    "                image='path_to_original_image_used_in_decoding',\n",
    "                cell_data='path_to_segmented_nuclei_position',\n",
    "                masks_svg='path_to_regions_as_svg')\n",
    "sample.transform_points2background('path_to_full_background_DAPI')\n",
    "```\n",
    "If splited sample needs to be combined, after the execution of aforementioned code run\n",
    "```\n",
    "import copy\n",
    "sample = copy.deepcopy(sample_top.add_gene_data(sample_bottom))\n",
    "```"
   ]
  },
  {
   "cell_type": "markdown",
   "metadata": {},
   "source": [
    "# PD9694 (Case 1)\n",
    "Case 1 consists of two oestrogen receptor positive and HER2-negative primary invasive breast cancers (PBC) within a 5cm bed of DCIS: We sampled both PBCs (PD9694a,c or ER1/ER2) and three regions from the DCIS (PD9694d,l,m or D1, D2 and D3).\n",
    "\n",
    "For all tissue samples, we have **main BaSISS** (mut), **ISS oncology** (exp) and **ISS expression** (imm). In addition to the main BaSISS layer (R1), for samples PD9694d,a,c (D1, ER1, ER2), we have a **validation BaSISS** technical replica done on the consequitive slides (R0)"
   ]
  },
  {
   "cell_type": "markdown",
   "metadata": {},
   "source": [
    "## BaSISS main"
   ]
  },
  {
   "cell_type": "code",
   "execution_count": 2,
   "metadata": {},
   "outputs": [
    {
     "name": "stdout",
     "output_type": "stream",
     "text": [
      "MutR1_PD9694d\n",
      "image load complete\n",
      "good matches 495 / 3000\n",
      "MutR1_PD9694d\n",
      "image load complete\n",
      "good matches 418 / 3000\n",
      "MutR1_PD9694m\n",
      "image load complete\n",
      "good matches 859 / 3000\n",
      "MutR1_PD9694m\n",
      "image load complete\n",
      "good matches 682 / 3000\n"
     ]
    }
   ],
   "source": [
    "# fusing split images\n",
    "\n",
    "labels = ['d', 'd', 'm', 'm']\n",
    "sections = ['Top', 'Bottom', 'Top', 'Bottom']\n",
    "masks_svgs = ['../submission/external_data/PD9694/regions/Mut_PD9694d_path.svg',\n",
    "              '../submission/external_data/PD9694/regions/Mut_PD9694d_path.svg',\n",
    "              None,\n",
    "              None]\n",
    "\n",
    "sample_list = []\n",
    "for i in range(len(labels)):\n",
    "    print(f'MutR1_PD9694{labels[i]}')\n",
    "    sample = Sample(iss_data=f'../submission/external_data/PD9694/GMM_decoding/decoding/MutR1_PD9694{labels[i]}_{sections[i]}_GMMdecoding.csv',\n",
    "                    image=f'../submission/external_data/PD9694/GMM_decoding/restored_DAPI/MutR1_PD9694{labels[i]}_{sections[i]}.tif',\n",
    "                    cell_data=f'../submission/external_data/PD9694/cell_segmentation/MutR1_PD9694{labels[i]}_cellpos.csv',\n",
    "                    masks_svg=masks_svgs[i])\n",
    "    #map on the scaffold full image\n",
    "    sample.transform_points2background(f'../submission/external_data/PD9694/DAPI_background/MutR1_PD9694{labels[i]}.tif', upsampling=15)\n",
    "    sample_list.append(sample)\n",
    "\n",
    "sample_list[0].add_gene_data(sample_list[1])\n",
    "sample_list[2].add_gene_data(sample_list[3])\n",
    "d_mut_sample = sample_list[0]\n",
    "m_mut_sample = sample_list[2]\n"
   ]
  },
  {
   "cell_type": "code",
   "execution_count": 3,
   "metadata": {},
   "outputs": [
    {
     "name": "stdout",
     "output_type": "stream",
     "text": [
      "MutR1_PD9694a\n",
      "image load complete\n",
      "good matches 725 / 3000\n",
      "MutR1_PD9694c\n",
      "image load complete\n",
      "good matches 947 / 3000\n",
      "MutR1_PD9694l\n",
      "image load complete\n",
      "good matches 2613 / 3000\n"
     ]
    }
   ],
   "source": [
    "labels = ['a', 'c', 'l']\n",
    "masks_svgs = ['../submission/external_data/PD9694/regions/Mut_PD9694a_path.svg',\n",
    "              '../submission/external_data/PD9694/regions/Mut_PD9694c_path.svg',\n",
    "              '../submission/external_data/PD9694/regions/Mut_PD9694l_path.svg']\n",
    "\n",
    "sample_list = []\n",
    "for i in range(len(labels)):\n",
    "    print(f'MutR1_PD9694{labels[i]}')\n",
    "    sample = Sample(iss_data=f'../submission/external_data/PD9694/GMM_decoding/decoding/MutR1_PD9694{labels[i]}_GMMdecoding.csv',\n",
    "                    image=f'../submission/external_data/PD9694/GMM_decoding/restored_DAPI/MutR1_PD9694{labels[i]}.tif',\n",
    "                    cell_data=f'../submission/external_data/PD9694/cell_segmentation/MutR1_PD9694{labels[i]}_cellpos.csv',\n",
    "                    masks_svg=masks_svgs[i])\n",
    "    #map on the scaffold image (in case decoding image was shifted)\n",
    "    sample.transform_points2background(f'../submission/external_data/PD9694/DAPI_background/MutR1_PD9694{labels[i]}.tif', upsampling=15)\n",
    "    sample_list.append(sample)"
   ]
  },
  {
   "cell_type": "code",
   "execution_count": 4,
   "metadata": {},
   "outputs": [],
   "source": [
    "#list of bassis R1 samples\n",
    "mut_sample_list = [d_mut_sample] + sample_list[:] + [m_mut_sample]"
   ]
  },
  {
   "cell_type": "markdown",
   "metadata": {},
   "source": [
    "## BaSISS Validation"
   ]
  },
  {
   "cell_type": "code",
   "execution_count": 5,
   "metadata": {},
   "outputs": [
    {
     "name": "stdout",
     "output_type": "stream",
     "text": [
      "MutR0_PD9694d\n",
      "image load complete\n",
      "good matches 1110 / 3000\n",
      "MutR0_PD9694a\n",
      "image load complete\n",
      "good matches 1297 / 3000\n",
      "MutR0_PD9694c\n",
      "image load complete\n",
      "good matches 1037 / 3000\n"
     ]
    }
   ],
   "source": [
    "labels = ['d', 'a', 'c']\n",
    "masks_svgs = [None,\n",
    "              None,\n",
    "              None]\n",
    "\n",
    "val_sample_list = []\n",
    "for i in range(len(labels)):\n",
    "    print(f'MutR0_PD9694{labels[i]}')\n",
    "    sample = Sample(iss_data=f'../submission/external_data/PD9694/GMM_decoding/decoding/MutR0_PD9694{labels[i]}_GMMdecoding.csv',\n",
    "                    image=f'../submission/external_data/PD9694/GMM_decoding/restored_DAPI/MutR0_PD9694{labels[i]}.tif',\n",
    "                    cell_data=f'../submission/external_data/PD9694/cell_segmentation/MutR0_PD9694{labels[i]}_cellpos.csv',\n",
    "                    masks_svg=masks_svgs[i])\n",
    "    #map on the scaffold image (in case decoding image was shifted)\n",
    "    sample.transform_points2background(f'../submission/external_data/PD9694/DAPI_background/MutR0_PD9694{labels[i]}.tif', upsampling=15)\n",
    "    val_sample_list.append(sample)"
   ]
  },
  {
   "cell_type": "markdown",
   "metadata": {},
   "source": [
    "## ISS oncology and immune"
   ]
  },
  {
   "cell_type": "code",
   "execution_count": 6,
   "metadata": {},
   "outputs": [
    {
     "name": "stdout",
     "output_type": "stream",
     "text": [
      "Exp_PD9694d\n",
      "image load complete\n",
      "good matches 1871 / 3000\n",
      "Exp_PD9694a\n",
      "image load complete\n",
      "good matches 2498 / 3000\n",
      "Exp_PD9694c\n",
      "image load complete\n",
      "good matches 2659 / 3000\n",
      "Exp_PD9694l\n",
      "image load complete\n",
      "good matches 2903 / 3000\n",
      "Exp_PD9694m\n",
      "image load complete\n",
      "good matches 1385 / 3000\n"
     ]
    }
   ],
   "source": [
    "labels = ['d', 'a', 'c', 'l', 'm']\n",
    "masks_svgs = [f'../submission/external_data/PD9694/regions/Exp_PD9694{label}_path.svg' for label in labels[:-1]] + [None]\n",
    "\n",
    "exp_sample_list = []\n",
    "for i in range(len(labels)):\n",
    "    print(f'Exp_PD9694{labels[i]}')\n",
    "    sample = Sample(iss_data=f'../submission/external_data/PD9694/GMM_decoding/decoding/Exp_PD9694{labels[i]}_GMMdecoding.csv',\n",
    "                    image=f'../submission/external_data/PD9694/GMM_decoding/restored_DAPI/Exp_PD9694{labels[i]}.tif',\n",
    "                    cell_data=f'../submission/external_data/PD9694/cell_segmentation/Exp_PD9694{labels[i]}_cellpos.csv',\n",
    "                    masks_svg=masks_svgs[i])\n",
    "    #map on the scaffold image (in case decoding image was shifted)\n",
    "    sample.transform_points2background(f'../submission/external_data/PD9694/DAPI_background/Exp_PD9694{labels[i]}.tif', upsampling=15)\n",
    "    exp_sample_list.append(sample)"
   ]
  },
  {
   "cell_type": "code",
   "execution_count": 7,
   "metadata": {},
   "outputs": [
    {
     "name": "stdout",
     "output_type": "stream",
     "text": [
      "Imm_PD9694m\n",
      "image load complete\n",
      "good matches 1474 / 3000\n",
      "Imm_PD9694m\n",
      "image load complete\n",
      "good matches 1016 / 3000\n"
     ]
    }
   ],
   "source": [
    "labels = ['m', 'm']\n",
    "sections = ['Top', 'Bottom']\n",
    "masks_svgs = [None,\n",
    "              None]\n",
    "\n",
    "sample_list = []\n",
    "for i in range(len(labels)):\n",
    "    print(f'Imm_PD9694{labels[i]}')\n",
    "    sample = Sample(iss_data=f'../submission/external_data/PD9694/GMM_decoding/decoding/Imm_PD9694{labels[i]}_{sections[i]}_GMMdecoding.csv',\n",
    "                    image=f'../submission/external_data/PD9694/GMM_decoding/restored_DAPI/Imm_PD9694{labels[i]}_{sections[i]}.tif',\n",
    "                    cell_data=f'../submission/external_data/PD9694/cell_segmentation/Imm_PD9694{labels[i]}_cellpos.csv',\n",
    "                    masks_svg=masks_svgs[i])\n",
    "    #map on the scaffold full image\n",
    "    sample.transform_points2background(f'../submission/external_data/PD9694/DAPI_background/Imm_PD9694{labels[i]}.tif', upsampling=15)\n",
    "    sample_list.append(sample)\n",
    "    \n",
    "sample_list[0].add_gene_data(sample_list[1])\n",
    "m_imm_sample = sample_list[0]"
   ]
  },
  {
   "cell_type": "code",
   "execution_count": 8,
   "metadata": {},
   "outputs": [
    {
     "name": "stdout",
     "output_type": "stream",
     "text": [
      "Imm_PD9694d\n",
      "image load complete\n",
      "good matches 1014 / 3000\n",
      "Imm_PD9694a\n",
      "image load complete\n",
      "good matches 908 / 3000\n",
      "Imm_PD9694c\n",
      "image load complete\n",
      "good matches 1218 / 3000\n",
      "Imm_PD9694l\n",
      "image load complete\n",
      "good matches 2551 / 3000\n"
     ]
    }
   ],
   "source": [
    "labels = ['d', 'a', 'c', 'l']\n",
    "masks_svgs = [f'../submission/external_data/PD9694/regions/Exp_PD9694{label}_path.svg' for label in labels]\n",
    "\n",
    "imm_sample_list = []\n",
    "for i in range(len(labels)):\n",
    "    print(f'Imm_PD9694{labels[i]}')\n",
    "    sample = Sample(iss_data=f'../submission/external_data/PD9694/GMM_decoding/decoding/Imm_PD9694{labels[i]}_GMMdecoding.csv',\n",
    "                    image=f'../submission/external_data/PD9694/GMM_decoding/restored_DAPI/Imm_PD9694{labels[i]}.tif',\n",
    "                    cell_data=f'../submission/external_data/PD9694/cell_segmentation/Imm_PD9694{labels[i]}_cellpos.csv',\n",
    "                    masks_svg=masks_svgs[i])\n",
    "    #map on the scaffold image (in case decoding image was shifted)\n",
    "    sample.transform_points2background(f'../submission/external_data/PD9694/DAPI_background/Imm_PD9694{labels[i]}.tif', upsampling=15)\n",
    "    imm_sample_list.append(sample)\n"
   ]
  },
  {
   "cell_type": "code",
   "execution_count": 9,
   "metadata": {},
   "outputs": [],
   "source": [
    "imm_sample_list = imm_sample_list + [m_imm_sample]\n"
   ]
  },
  {
   "cell_type": "markdown",
   "metadata": {},
   "source": [
    "Save all objects as a pickled dictionary, for easy access"
   ]
  },
  {
   "cell_type": "code",
   "execution_count": 10,
   "metadata": {},
   "outputs": [],
   "source": [
    "#save all the data\n",
    "\n",
    "saved_list = {'imm_sample_list':imm_sample_list, 'exp_sample_list':exp_sample_list, 'mut_sample_list':mut_sample_list, 'val_sample_list':val_sample_list}\n",
    "\n",
    "with open('../submission/generated_data/data_structures/data_case1_saved.pkl', 'wb') as file:\n",
    "    pkl.dump(saved_list, file)"
   ]
  },
  {
   "cell_type": "markdown",
   "metadata": {},
   "source": [
    "# PD14780 (Case 2)\n",
    "Case 2 includes two PBCs of ‘triple-negative’ subtype (lacking oestrogen, progesterone and HER2 receptors). We sampled both PBCs (TN1/TN2) and a metastatic axillary lymph node that contained metastatic deposits (sample LN1).\n",
    "\n",
    "For all tissue samples, we have **main BaSISS** (mut), **ISS oncology** (exp) and **ISS expression** (imm). "
   ]
  },
  {
   "cell_type": "markdown",
   "metadata": {},
   "source": [
    "## BaSISS "
   ]
  },
  {
   "cell_type": "code",
   "execution_count": 11,
   "metadata": {},
   "outputs": [
    {
     "name": "stdout",
     "output_type": "stream",
     "text": [
      "Mut_PD14780a\n",
      "image load complete\n",
      "good matches 2552 / 3000\n",
      "Mut_PD14780d\n",
      "image load complete\n",
      "good matches 2693 / 3000\n",
      "Mut_PD14780e\n",
      "image load complete\n",
      "good matches 3000 / 3000\n"
     ]
    }
   ],
   "source": [
    "labels = ['a', 'd', 'e']\n",
    "masks_svgs = ['../submission/external_data/PD14780/regions/Mut_PD14780a_path.svg',\n",
    "              None,\n",
    "              '../submission/external_data/PD14780/regions/Mut_PD14780e_path.svg']\n",
    "\n",
    "mut_sample_list = []\n",
    "for i in range(len(labels)):\n",
    "    print(f'Mut_PD14780{labels[i]}')\n",
    "    sample = Sample(iss_data=f'../submission/external_data/PD14780/GMM_decoding/decoding/Mut_PD14780{labels[i]}_GMMdecoding.csv',\n",
    "                    image=f'../submission/external_data/PD14780/GMM_decoding/restored_DAPI/Mut_PD14780{labels[i]}.tif',\n",
    "                    cell_data=f'../submission/external_data/PD14780/cell_segmentation/Mut_PD14780{labels[i]}_cellpos.csv',\n",
    "                    masks_svg=masks_svgs[i])\n",
    "    #map on the scaffold image (in case decoding image was shifted)\n",
    "    sample.transform_points2background(f'../submission/external_data/PD14780/DAPI_background/Mut_PD14780{labels[i]}.tif', upsampling=15)\n",
    "    mut_sample_list.append(sample)"
   ]
  },
  {
   "cell_type": "markdown",
   "metadata": {},
   "source": [
    "## ISS oncololgy and immune"
   ]
  },
  {
   "cell_type": "code",
   "execution_count": 12,
   "metadata": {},
   "outputs": [
    {
     "name": "stdout",
     "output_type": "stream",
     "text": [
      "Exp_PD14780a\n",
      "image load complete\n",
      "good matches 2324 / 3000\n",
      "Exp_PD14780d\n",
      "image load complete\n",
      "good matches 1670 / 3000\n",
      "Exp_PD14780e\n",
      "image load complete\n",
      "good matches 1505 / 3000\n"
     ]
    }
   ],
   "source": [
    "labels = ['a', 'd', 'e']\n",
    "masks_svgs = ['../submission/external_data/PD14780/regions/Exp_PD14780a_path.svg',\n",
    "              None,\n",
    "              '../submission/external_data/PD14780/regions/Exp_PD14780e_path.svg']\n",
    "              \n",
    "\n",
    "exp_sample_list = []\n",
    "for i in range(len(labels)):\n",
    "    print(f'Exp_PD14780{labels[i]}')\n",
    "    sample = Sample(iss_data=f'../submission/external_data/PD14780/GMM_decoding/decoding/Exp_PD14780{labels[i]}_GMMdecoding.csv',\n",
    "                    image=f'../submission/external_data/PD14780/GMM_decoding/restored_DAPI/Exp_PD14780{labels[i]}.tif',\n",
    "                    cell_data=f'../submission/external_data/PD14780/cell_segmentation/Exp_PD14780{labels[i]}_cellpos.csv',\n",
    "                    masks_svg=masks_svgs[i])\n",
    "    #map on the scaffold image (in case decoding image was shifted)\n",
    "    sample.transform_points2background(f'../submission/external_data/PD14780/DAPI_background/Exp_PD14780{labels[i]}.tif', upsampling=15)\n",
    "    exp_sample_list.append(sample)\n"
   ]
  },
  {
   "cell_type": "code",
   "execution_count": 13,
   "metadata": {},
   "outputs": [
    {
     "name": "stdout",
     "output_type": "stream",
     "text": [
      "Imm_PD14780a\n",
      "image load complete\n",
      "good matches 2566 / 3000\n",
      "Imm_PD14780d\n",
      "image load complete\n",
      "good matches 1635 / 3000\n",
      "Imm_PD14780e\n",
      "image load complete\n",
      "good matches 2536 / 3000\n"
     ]
    }
   ],
   "source": [
    "labels = ['a', 'd', 'e']\n",
    "masks_svgs = ['../submission/external_data/PD14780/regions/Imm_PD14780a_path.svg',\n",
    "              None,\n",
    "              '../submission/external_data/PD14780/regions/Imm_PD14780e_path.svg']\n",
    "imm_sample_list = []\n",
    "for i in range(len(labels)):\n",
    "    print(f'Imm_PD14780{labels[i]}')\n",
    "    sample = Sample(iss_data=f'../submission/external_data/PD14780/GMM_decoding/decoding/Imm_PD14780{labels[i]}_GMMdecoding.csv',\n",
    "                    image=f'../submission/external_data/PD14780/GMM_decoding/restored_DAPI/Imm_PD14780{labels[i]}.tif',\n",
    "                    cell_data=f'../submission/external_data/PD14780/cell_segmentation/Imm_PD14780{labels[i]}_cellpos.csv',\n",
    "                    masks_svg=masks_svgs[i])\n",
    "    #map on the scaffold image (in case decoding image was shifted)\n",
    "    sample.transform_points2background(f'../submission/external_data/PD14780/DAPI_background/Imm_PD14780{labels[i]}.tif', upsampling=15)\n",
    "    imm_sample_list.append(sample)\n"
   ]
  },
  {
   "cell_type": "markdown",
   "metadata": {},
   "source": [
    "Save all objects as a pickled dictionary, for easy access"
   ]
  },
  {
   "cell_type": "code",
   "execution_count": 14,
   "metadata": {},
   "outputs": [],
   "source": [
    "saved_list = {'imm_sample_list':imm_sample_list, 'exp_sample_list':exp_sample_list, 'mut_sample_list':mut_sample_list}\n",
    "\n",
    "with open('../submission/generated_data/data_structures/data_case2_saved.pkl', 'wb') as file:\n",
    "    pkl.dump(saved_list, file)"
   ]
  }
 ],
 "metadata": {
  "kernelspec": {
   "display_name": "bassis",
   "language": "python",
   "name": "bassis"
  },
  "language_info": {
   "codemirror_mode": {
    "name": "ipython",
    "version": 3
   },
   "file_extension": ".py",
   "mimetype": "text/x-python",
   "name": "python",
   "nbconvert_exporter": "python",
   "pygments_lexer": "ipython3",
   "version": "3.8.12"
  },
  "toc-autonumbering": false
 },
 "nbformat": 4,
 "nbformat_minor": 4
}
